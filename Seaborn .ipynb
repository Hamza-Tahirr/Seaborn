{
 "cells": [
  {
   "attachments": {},
   "cell_type": "markdown",
   "id": "535943b5",
   "metadata": {},
   "source": [
    "# Scatter Plots"
   ]
  },
  {
   "attachments": {
    "image.png": {
     "image/png": "[encoded data removed]"
    }
   },
   "cell_type": "markdown",
   "id": "cfa06e06",
   "metadata": {},
   "source": [
    "![image.png](attachment:image.png)"
   ]
  },
  {
   "cell_type": "markdown",
   "id": "c3e2feb6",
   "metadata": {},
   "source": [
    "## Chart for observing relationships between variables \n"
   ]
  },
  {
   "cell_type": "markdown",
   "id": "a4391b8a",
   "metadata": {},
   "source": [
    "**Standard chart type for showing relationships between \n",
    "two numeric variables. Each point’s position on the hor\u0002izontal and vertical axes indicate value on the associated \n",
    "variable  || It is use for multivariate Analysis**"
   ]
  },
  {
   "cell_type": "markdown",
   "id": "5fe5cdad",
   "metadata": {},
   "source": [
    "There are two ways to plot a scatter plot \n",
    "- relplot (Figure Level Function)\n",
    "- scatterplot (Axes Level Function)"
   ]
  },
  {
   "cell_type": "code",
   "execution_count": 1,
   "id": "81bc8eb2",
   "metadata": {},
   "outputs": [],
   "source": [
    "import seaborn as sns\n",
    "import matplotlib.pyplot as plt\n",
    "import numpy as np\n",
    "import pandas as pd"
   ]
  },
  {
   "cell_type": "code",
   "execution_count": 2,
   "id": "fc0fe547",
   "metadata": {},
   "outputs": [],
   "source": [
    "plt.style.use('fivethirtyeight')"
   ]
  },
  {
   "cell_type": "code",
   "execution_count": 3,
   "id": "c86bed19",
   "metadata": {},
   "outputs": [],
   "source": [
    "data= sns.load_dataset('tips')"
   ]
  },
  {
   "cell_type": "code",
   "execution_count": null,
   "id": "f21a2bf0",
   "metadata": {},
   "outputs": [],
   "source": [
    "#for first five \n",
    "data.head()"
   ]
  },
  {
   "cell_type": "code",
   "execution_count": null,
   "id": "bea2740e",
   "metadata": {},
   "outputs": [],
   "source": [
    "#Plot a Scatter Plot Between Total Bill And tip\n",
    "sns.relplot(x='total_bill', y='tip',kind='scatter', data=data)"
   ]
  },
  {
   "cell_type": "markdown",
   "id": "41fd60f6",
   "metadata": {},
   "source": [
    "## The hue Parameter"
   ]
  },
  {
   "cell_type": "code",
   "execution_count": 4,
   "id": "3611a0a0",
   "metadata": {},
   "outputs": [],
   "source": [
    "# for third value or for more value in chart"
   ]
  },
  {
   "cell_type": "code",
   "execution_count": null,
   "id": "0b6d9e92",
   "metadata": {},
   "outputs": [],
   "source": [
    "sns.relplot(x='total_bill',y='tip', hue='smoker', kind='scatter',data=data)"
   ]
  },
  {
   "cell_type": "markdown",
   "id": "2621e730",
   "metadata": {},
   "source": [
    "## The Style Parameter"
   ]
  },
  {
   "cell_type": "code",
   "execution_count": 5,
   "id": "dd23519e",
   "metadata": {},
   "outputs": [],
   "source": [
    "# plot here\n",
    "#for individual dot we can configure whther the guy is girl or boy "
   ]
  },
  {
   "cell_type": "code",
   "execution_count": null,
   "id": "5da9c67f",
   "metadata": {},
   "outputs": [],
   "source": [
    "sns.relplt(x='total_bill',y=\"tip\",hue=\"smoker\",style=\"sex\",data=data)"
   ]
  },
  {
   "cell_type": "markdown",
   "id": "412af3ec",
   "metadata": {},
   "source": [
    "## The size parameter"
   ]
  },
  {
   "cell_type": "code",
   "execution_count": null,
   "id": "494c54a1",
   "metadata": {},
   "outputs": [],
   "source": [
    "#Plot here\n",
    "sns.relplt(x='total_bill',y=\"tip\",hue=\"smoker\",style=\"sex\", size ='size', sizes=(15,200), data=data)"
   ]
  },
  {
   "cell_type": "markdown",
   "id": "5bb326e3",
   "metadata": {},
   "source": [
    "sizes will ocuppy the space with the size as per user defined \n"
   ]
  },
  {
   "cell_type": "code",
   "execution_count": null,
   "id": "91509434",
   "metadata": {},
   "outputs": [],
   "source": []
  },
  {
   "cell_type": "code",
   "execution_count": null,
   "id": "60d8303e",
   "metadata": {},
   "outputs": [],
   "source": []
  },
  {
   "cell_type": "code",
   "execution_count": null,
   "id": "d42a95e7",
   "metadata": {},
   "outputs": [],
   "source": []
  },
  {
   "cell_type": "code",
   "execution_count": null,
   "id": "3fac6361",
   "metadata": {},
   "outputs": [],
   "source": []
  },
  {
   "cell_type": "code",
   "execution_count": null,
   "id": "7f388215",
   "metadata": {},
   "outputs": [],
   "source": []
  },
  {
   "cell_type": "code",
   "execution_count": null,
   "id": "0bc11e09",
   "metadata": {},
   "outputs": [],
   "source": []
  },
  {
   "cell_type": "code",
   "execution_count": null,
   "id": "20a3a028",
   "metadata": {},
   "outputs": [],
   "source": []
  },
  {
   "cell_type": "code",
   "execution_count": null,
   "id": "b72b1acd",
   "metadata": {},
   "outputs": [],
   "source": []
  },
  {
   "cell_type": "code",
   "execution_count": null,
   "id": "607161e6",
   "metadata": {},
   "outputs": [],
   "source": []
  },
  {
   "cell_type": "code",
   "execution_count": null,
   "id": "d6e4d828",
   "metadata": {},
   "outputs": [],
   "source": []
  },
  {
   "cell_type": "code",
   "execution_count": null,
   "id": "41e8d96b",
   "metadata": {},
   "outputs": [],
   "source": []
  }
 ],
 "metadata": {
  "kernelspec": {
   "display_name": "Python 3 (ipykernel)",
   "language": "python",
   "name": "python3"
  },
  "language_info": {
   "codemirror_mode": {
    "name": "ipython",
    "version": 3
   },
   "file_extension": ".py",
   "mimetype": "text/x-python",
   "name": "python",
   "nbconvert_exporter": "python",
   "pygments_lexer": "ipython3",
   "version": "3.9.12"
  }
 },
 "nbformat": 4,
 "nbformat_minor": 5
}
